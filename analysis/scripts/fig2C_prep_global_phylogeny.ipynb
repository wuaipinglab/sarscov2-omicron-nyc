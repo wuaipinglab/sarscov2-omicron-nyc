{
 "cells": [
  {
   "cell_type": "markdown",
   "metadata": {},
   "source": [
    "## Figure 2C: Phylogenetic tree of viruses with clade defining substitution(s).\n",
    "\n",
    "#### This notebook prepares additional metadata (local and context clade) for auspice."
   ]
  },
  {
   "cell_type": "code",
   "execution_count": 13,
   "metadata": {},
   "outputs": [],
   "source": [
    "import os\n",
    "import pandas as pd\n",
    "from Bio import SeqIO"
   ]
  },
  {
   "cell_type": "code",
   "execution_count": 14,
   "metadata": {},
   "outputs": [],
   "source": [
    "meta = pd.read_csv('../data/rawdata/nyc_omicron_metadata.csv', index_col='seqName')"
   ]
  },
  {
   "cell_type": "code",
   "execution_count": 15,
   "metadata": {},
   "outputs": [],
   "source": [
    "nextclade = pd.read_csv('../data/nextclade_nyc/nextclade.tsv', delimiter='\\t', index_col='seqName')"
   ]
  },
  {
   "cell_type": "code",
   "execution_count": 16,
   "metadata": {},
   "outputs": [],
   "source": [
    "clades = {\n",
    "    'A': [],\n",
    "    'B': [],\n",
    "    'C': [],\n",
    "    'D': [],\n",
    "    'Others': []\n",
    "}\n",
    "for i in nextclade.index:\n",
    "    substitutions = nextclade.loc[i, 'substitutions'].split(',')\n",
    "    if 'G5515T' in substitutions:\n",
    "        clades['A'].append(i)\n",
    "    elif 'G5924A' in substitutions:\n",
    "        clades['B'].append(i)\n",
    "    elif 'T10135C' in substitutions and 'C25708T' in substitutions and 'A29301G' in substitutions:\n",
    "        clades['C'].append(i)\n",
    "    elif 'C2470T' in substitutions and 'G22599A' in substitutions:\n",
    "        clades['D'].append(i)\n",
    "    else:\n",
    "        clades['Others'].append(i)"
   ]
  },
  {
   "cell_type": "code",
   "execution_count": 17,
   "metadata": {},
   "outputs": [],
   "source": [
    "seqs_gl = []\n",
    "with open('../data/rawdata/global_sequences.fasta') as f:\n",
    "    for seq_record in SeqIO.parse(f, 'fasta'):\n",
    "        sequence = str(seq_record.seq)\n",
    "        if sequence.count('A') + sequence.count('T') + sequence.count('G') + sequence.count('C') >= 29000:\n",
    "            seqs_gl.append(seq_record.description)\n",
    "\n",
    "meta_gl = pd.read_csv('../data/rawdata/global_metadata.tsv', delimiter='\\t', index_col='strain').dropna(subset=['date', 'region_exposure', 'country_exposure', 'division_exposure'])\n",
    "\n",
    "nextclade_gl = pd.read_csv('../data/nextclade_global/nextclade.tsv', delimiter='\\t', index_col='seqName').dropna(subset=['substitutions'])\n",
    "nextclade_gl = nextclade_gl[\n",
    "    (nextclade_gl['qc.overallStatus'] == 'good') \n",
    "    & (nextclade_gl.index.isin(seqs_gl)) \n",
    "    & (nextclade_gl.index.isin(meta_gl.index))\n",
    "    ]"
   ]
  },
  {
   "cell_type": "code",
   "execution_count": 18,
   "metadata": {},
   "outputs": [],
   "source": [
    "clades_gl = {\n",
    "    'A': [],\n",
    "    'B': [],\n",
    "    'C': [],\n",
    "    'D': []\n",
    "}\n",
    "\n",
    "for i in nextclade_gl.index:\n",
    "    substitutions = nextclade_gl.loc[i, 'substitutions'].split(',')\n",
    "    if 'G5515T' in substitutions:\n",
    "        clades_gl['A'].append(i)\n",
    "    if 'G5924A' in substitutions:\n",
    "        clades_gl['B'].append(i)\n",
    "    if 'T10135C' in substitutions and 'C25708T' in substitutions and 'A29301G' in substitutions:\n",
    "        clades_gl['C'].append(i)\n",
    "    if 'C2470T' in substitutions and 'G22599A' in substitutions:\n",
    "        clades_gl['D'].append(i)"
   ]
  },
  {
   "cell_type": "code",
   "execution_count": 19,
   "metadata": {},
   "outputs": [],
   "source": [
    "seqs_context = []\n",
    "\n",
    "for c in clades_gl:\n",
    "    earliest_date = meta[meta.index.isin(clades[c])]['Date of Collection'].sort_values()[0]\n",
    "    for i in clades_gl[c]:\n",
    "        if meta_gl.loc[i, 'date'] < earliest_date:\n",
    "            seqs_context.append(i)"
   ]
  },
  {
   "cell_type": "code",
   "execution_count": 20,
   "metadata": {},
   "outputs": [],
   "source": [
    "cols = {\n",
    "    'A': '#6098C5',\n",
    "    'B': '#FD9E31',\n",
    "    'C': '#9370DB',\n",
    "    'D': '#EE6553',\n",
    "    'Global': '#B0C4DE'\n",
    "}\n",
    "\n",
    "with open('../../nextstrain_workflow/auspice_metadata/introduction_clades.csv', 'w') as f:\n",
    "    f.write('strain'+','+'clade'+','+'clade__color'+'\\n')\n",
    "    for c in clades:\n",
    "        if c != 'Others':\n",
    "            for i in clades[c]:\n",
    "                f.write(i+','+c+','+cols[c]+'\\n')\n",
    "    for i in seqs_context:\n",
    "        f.write(i[8:]+','+'Global'+','+cols['Global']+'\\n')"
   ]
  }
 ],
 "metadata": {
  "interpreter": {
   "hash": "aee8b7b246df8f9039afb4144a1f6fd8d2ca17a180786b69acc140d282b71a49"
  },
  "kernelspec": {
   "display_name": "Python 3.9.0 64-bit",
   "language": "python",
   "name": "python3"
  },
  "language_info": {
   "codemirror_mode": {
    "name": "ipython",
    "version": 3
   },
   "file_extension": ".py",
   "mimetype": "text/x-python",
   "name": "python",
   "nbconvert_exporter": "python",
   "pygments_lexer": "ipython3",
   "version": "3.9.0"
  },
  "orig_nbformat": 4
 },
 "nbformat": 4,
 "nbformat_minor": 2
}
