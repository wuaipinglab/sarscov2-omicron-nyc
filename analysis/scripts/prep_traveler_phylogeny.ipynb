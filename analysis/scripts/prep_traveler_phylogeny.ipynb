{
 "cells": [
  {
   "cell_type": "markdown",
   "metadata": {},
   "source": [
    "## Phylogeny of Omicron viruses from travelers and locals\n",
    "\n",
    "#### This notebook prepares additional metadata (travelers and locals) for auspice."
   ]
  },
  {
   "cell_type": "code",
   "execution_count": 10,
   "metadata": {},
   "outputs": [],
   "source": [
    "import os\n",
    "import pandas as pd"
   ]
  },
  {
   "cell_type": "code",
   "execution_count": 11,
   "metadata": {},
   "outputs": [],
   "source": [
    "meta = pd.read_csv('../data/rawdata/nyc_omicron_metadata.csv', index_col='seqName')"
   ]
  },
  {
   "cell_type": "code",
   "execution_count": 12,
   "metadata": {},
   "outputs": [],
   "source": [
    "nextclade = pd.read_csv('../data/nextclade_nyc/nextclade.tsv', delimiter='\\t', index_col='seqName')"
   ]
  },
  {
   "cell_type": "code",
   "execution_count": 13,
   "metadata": {},
   "outputs": [],
   "source": [
    "clades = {\n",
    "    'A': [],\n",
    "    'B': [],\n",
    "    'C': [],\n",
    "    'D': [],\n",
    "    'Others': []\n",
    "}\n",
    "\n",
    "for i in nextclade.index:\n",
    "    substitutions = nextclade.loc[i, 'substitutions'].split(',')\n",
    "    if 'G5515T' in substitutions:\n",
    "        clades['A'].append(i)\n",
    "    elif 'G5924A' in substitutions:\n",
    "        clades['B'].append(i)\n",
    "    elif 'T10135C' in substitutions and 'C25708T' in substitutions and 'A29301G' in substitutions:\n",
    "        clades['C'].append(i)\n",
    "    elif 'C2470T' in substitutions and 'G22599A' in substitutions:\n",
    "        clades['D'].append(i)\n",
    "    else:\n",
    "        clades['Others'].append(i)"
   ]
  },
  {
   "cell_type": "code",
   "execution_count": 14,
   "metadata": {},
   "outputs": [],
   "source": [
    "local_states = ['NY', 'NJ']\n",
    "\n",
    "cols = {\n",
    "    'A': '#6098C5',\n",
    "    'B': '#FD9E31',\n",
    "    'C': '#9370DB',\n",
    "    'D': '#EE6553',\n",
    "    'Others': '#B0C4DE',\n",
    "    'Traveler': '#FEBE64'\n",
    "}\n",
    "\n",
    "with open('../../nextstrain_workflow/auspice_metadata/travelers.csv', 'w') as f:\n",
    "    f.write('strain'+','+'source'+','+'source__color'+'\\n')\n",
    "    for c in clades:\n",
    "        for i in clades[c]:\n",
    "            if meta.loc[i, 'State'] not in local_states:\n",
    "                source = 'Traveler'\n",
    "            else:\n",
    "                source = c\n",
    "            f.write(i+','+source+','+cols[source]+'\\n')"
   ]
  },
  {
   "cell_type": "code",
   "execution_count": 15,
   "metadata": {},
   "outputs": [
    {
     "data": {
      "text/plain": [
       "seqName\n",
       "caomi001    CA\n",
       "caomi002    CA\n",
       "flomi001    FL\n",
       "flomi002    FL\n",
       "gaomi001    GA\n",
       "mdomi001    MD\n",
       "meomi001    ME\n",
       "ncomi001    NC\n",
       "ncomi002    NC\n",
       "oromi001    OR\n",
       "riomi001    RI\n",
       "txomi001    TX\n",
       "utomi001    UT\n",
       "Name: State, dtype: object"
      ]
     },
     "execution_count": 15,
     "metadata": {},
     "output_type": "execute_result"
    }
   ],
   "source": [
    "meta[~meta['State'].isin(local_states)]['State'].sort_values()"
   ]
  }
 ],
 "metadata": {
  "interpreter": {
   "hash": "aee8b7b246df8f9039afb4144a1f6fd8d2ca17a180786b69acc140d282b71a49"
  },
  "kernelspec": {
   "display_name": "Python 3.9.0 64-bit",
   "language": "python",
   "name": "python3"
  },
  "language_info": {
   "codemirror_mode": {
    "name": "ipython",
    "version": 3
   },
   "file_extension": ".py",
   "mimetype": "text/x-python",
   "name": "python",
   "nbconvert_exporter": "python",
   "pygments_lexer": "ipython3",
   "version": "3.9.0"
  },
  "orig_nbformat": 4
 },
 "nbformat": 4,
 "nbformat_minor": 2
}
