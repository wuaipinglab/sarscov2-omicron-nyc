{
 "cells": [
  {
   "cell_type": "markdown",
   "metadata": {},
   "source": [
    "## Geographic distributions of four main clades in New York City"
   ]
  },
  {
   "cell_type": "code",
   "execution_count": 3,
   "metadata": {},
   "outputs": [],
   "source": [
    "import os\n",
    "import json\n",
    "import warnings\n",
    "import pandas as pd\n",
    "import folium\n",
    "\n",
    "warnings.filterwarnings('ignore')"
   ]
  },
  {
   "cell_type": "code",
   "execution_count": 4,
   "metadata": {},
   "outputs": [],
   "source": [
    "meta = pd.read_csv('../data/rawdata/nyc_omicron_metadata.csv', index_col='seqName')"
   ]
  },
  {
   "cell_type": "code",
   "execution_count": 5,
   "metadata": {},
   "outputs": [],
   "source": [
    "nextclade = pd.read_csv('../data/nextclade_nyc/nextclade.tsv', delimiter='\\t', index_col='seqName')"
   ]
  },
  {
   "cell_type": "code",
   "execution_count": 6,
   "metadata": {},
   "outputs": [],
   "source": [
    "clades = {\n",
    "    'A': [],\n",
    "    'B': [],\n",
    "    'C': [],\n",
    "    'D': [],\n",
    "    'Others': []\n",
    "}\n",
    "for i in nextclade.index:\n",
    "    substitutions = nextclade.loc[i, 'substitutions'].split(',')\n",
    "    if 'G5515T' in substitutions:\n",
    "        clades['A'].append(i)\n",
    "    elif 'G5924A' in substitutions:\n",
    "        clades['B'].append(i)\n",
    "    elif 'T10135C' in substitutions and 'C25708T' in substitutions and 'A29301G' in substitutions:\n",
    "        clades['C'].append(i)\n",
    "    elif 'C2470T' in substitutions and 'G22599A' in substitutions:\n",
    "        clades['D'].append(i)\n",
    "    else:\n",
    "        clades['Others'].append(i)"
   ]
  },
  {
   "cell_type": "code",
   "execution_count": 7,
   "metadata": {},
   "outputs": [],
   "source": [
    "def convert_zipcode(zipcode):\n",
    "    if '-' in zipcode:\n",
    "        return zipcode.split('-')[0]\n",
    "    else:\n",
    "        return zipcode\n",
    "\n",
    "\n",
    "nyc_zipcode = []\n",
    "with open('../data/rawdata/MODZCTA_2010_WGS1984.geo.json') as f:\n",
    "    nyc_json = json.load(f)\n",
    "\n",
    "for i in nyc_json['features']:\n",
    "    nyc_zipcode.append(i['properties']['MODZCTA'])\n",
    "\n",
    "meta['Postal'] = meta['Postal'].apply(convert_zipcode)"
   ]
  },
  {
   "cell_type": "code",
   "execution_count": 8,
   "metadata": {},
   "outputs": [],
   "source": [
    "colors = {\n",
    "    'A': ('Blues', 0.6),\n",
    "    'B': ('YlOrRd', 0.4),\n",
    "    'C': ('Purples', 0.8),\n",
    "    'D': ('OrRd', 1.0),\n",
    "}\n",
    "\n",
    "for c in clades:\n",
    "    if c != 'Others':\n",
    "        submeta = meta[meta.index.isin(clades[c])]\n",
    "        df = submeta[submeta['Postal'].isin(nyc_zipcode)]['Postal'].value_counts().to_frame().reset_index().rename(columns={'index':'ZIP', 'Postal':'Count'})\n",
    "        df['Count'] = 1\n",
    "        m = folium.Map(location=[40.693943, -73.985880], default_zoom_start=12, tiles=None)\n",
    "\n",
    "        m.choropleth(geo_data='../data/rawdata/MODZCTA_2010_WGS1984.geo.json',\n",
    "                    data=df,\n",
    "                    columns=['ZIP', 'Count'],\n",
    "                    key_on='feature.properties.MODZCTA',\n",
    "                    fill_color=colors[c][0],\n",
    "                    fill_opacity=colors[c][1],\n",
    "                    line_opacity=0.3,\n",
    "                    nan_fill_color='white')\n",
    "\n",
    "        m.save('../figures/Figure_1D_Clade'+c+'.html')"
   ]
  }
 ],
 "metadata": {
  "interpreter": {
   "hash": "aee8b7b246df8f9039afb4144a1f6fd8d2ca17a180786b69acc140d282b71a49"
  },
  "kernelspec": {
   "display_name": "Python 3.9.0 64-bit",
   "language": "python",
   "name": "python3"
  },
  "language_info": {
   "codemirror_mode": {
    "name": "ipython",
    "version": 3
   },
   "file_extension": ".py",
   "mimetype": "text/x-python",
   "name": "python",
   "nbconvert_exporter": "python",
   "pygments_lexer": "ipython3",
   "version": "3.9.0"
  },
  "orig_nbformat": 4
 },
 "nbformat": 4,
 "nbformat_minor": 2
}
