{
 "cells": [
  {
   "cell_type": "markdown",
   "metadata": {},
   "source": [
    "## Figure 2A: Phylogenetic tree of 392 Omicron viruses in New York City.\n",
    "\n",
    "#### This notebook prepares additional metadata (clade) for auspice."
   ]
  },
  {
   "cell_type": "code",
   "execution_count": 14,
   "metadata": {},
   "outputs": [],
   "source": [
    "import pandas as pd"
   ]
  },
  {
   "cell_type": "code",
   "execution_count": 15,
   "metadata": {},
   "outputs": [],
   "source": [
    "nextclade = pd.read_csv('../data/nextclade_nyc/nextclade.tsv', delimiter='\\t', index_col='seqName')"
   ]
  },
  {
   "cell_type": "code",
   "execution_count": 16,
   "metadata": {},
   "outputs": [],
   "source": [
    "clades = {\n",
    "    'A': [],\n",
    "    'B': [],\n",
    "    'C': [],\n",
    "    'D': [],\n",
    "    'Others': []\n",
    "}\n",
    "for i in nextclade.index:\n",
    "    substitutions = nextclade.loc[i, 'substitutions'].split(',')\n",
    "    if 'G5515T' in substitutions:\n",
    "        clades['A'].append(i)\n",
    "    elif 'G5924A' in substitutions:\n",
    "        clades['B'].append(i)\n",
    "    elif 'T10135C' in substitutions and 'C25708T' in substitutions and 'A29301G' in substitutions:\n",
    "        clades['C'].append(i)\n",
    "    elif 'C2470T' in substitutions and 'G22599A' in substitutions:\n",
    "        clades['D'].append(i)\n",
    "    else:\n",
    "        clades['Others'].append(i)"
   ]
  },
  {
   "cell_type": "code",
   "execution_count": 17,
   "metadata": {},
   "outputs": [],
   "source": [
    "cols = {\n",
    "    'A': '#6098C5',\n",
    "    'B': '#FD9E31',\n",
    "    'C': '#9370DB',\n",
    "    'D': '#EE6553',\n",
    "    'Others': '#B0C4DE'\n",
    "}\n",
    "\n",
    "with open('../../nextstrain_workflow/auspice_metadata/nyc_clades.csv', 'w') as f:\n",
    "    f.write('strain'+','+'clade'+','+'clade__color'+'\\n')\n",
    "    for c in clades:\n",
    "        for i in clades[c]:\n",
    "            f.write(i+','+c+','+cols[c]+'\\n')"
   ]
  }
 ],
 "metadata": {
  "interpreter": {
   "hash": "aee8b7b246df8f9039afb4144a1f6fd8d2ca17a180786b69acc140d282b71a49"
  },
  "kernelspec": {
   "display_name": "Python 3.9.0 64-bit",
   "language": "python",
   "name": "python3"
  },
  "language_info": {
   "codemirror_mode": {
    "name": "ipython",
    "version": 3
   },
   "file_extension": ".py",
   "mimetype": "text/x-python",
   "name": "python",
   "nbconvert_exporter": "python",
   "pygments_lexer": "ipython3",
   "version": "3.9.0"
  },
  "orig_nbformat": 4
 },
 "nbformat": 4,
 "nbformat_minor": 2
}
